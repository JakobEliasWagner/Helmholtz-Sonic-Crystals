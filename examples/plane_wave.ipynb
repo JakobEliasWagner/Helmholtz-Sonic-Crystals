{
 "cells": [
  {
   "cell_type": "code",
   "execution_count": 1,
   "outputs": [
    {
     "name": "stderr",
     "output_type": "stream",
     "text": [
      "[arch-laptop:28383] mca_base_component_repository_open: unable to open mca_btl_openib: librdmacm.so.1: cannot open shared object file: No such file or directory (ignored)\n"
     ]
    }
   ],
   "source": [
    "import matplotlib.pyplot as plt\n",
    "import seaborn as sns\n",
    "import numpy as np\n",
    "import tempfile \n",
    "import pathlib\n",
    "import pandas as pd\n",
    "from hsc import HelmholtzDataset\n",
    "from hsc.utility import xdmf_to_numpy\n",
    "from hsc.domain_properties import read_from_json\n",
    "\n",
    "plt.rcParams.update(\n",
    "    {\n",
    "        \"text.usetex\": True,\n",
    "        \"font.family\": \"Helvetica\",\n",
    "        \"text.latex.preamble\": r\"\\usepackage{amsmath} \\usepackage{amssymb}\",\n",
    "    }\n",
    ")"
   ],
   "metadata": {
    "collapsed": false,
    "ExecuteTime": {
     "end_time": "2024-04-24T15:41:28.812275416Z",
     "start_time": "2024-04-24T15:41:28.341784364Z"
    }
   },
   "id": "c33f34c4dad4fccb"
  },
  {
   "cell_type": "markdown",
   "source": [
    "Generate Dataset\n"
   ],
   "metadata": {
    "collapsed": false
   },
   "id": "eee3bbff54bc3dfa"
  },
  {
   "cell_type": "code",
   "execution_count": 2,
   "outputs": [],
   "source": [
    "data_directory = tempfile.TemporaryDirectory()\n",
    "data_path = pathlib.Path(data_directory.name)"
   ],
   "metadata": {
    "collapsed": false,
    "ExecuteTime": {
     "end_time": "2024-04-24T15:41:28.827717560Z",
     "start_time": "2024-04-24T15:41:28.779470029Z"
    }
   },
   "id": "16aa7e4563a386eb"
  },
  {
   "cell_type": "code",
   "execution_count": 3,
   "outputs": [
    {
     "name": "stdout",
     "output_type": "stream",
     "text": [
      "/home/jakob/master_workspace/Helmholtz-Sonic-Crystals\n"
     ]
    }
   ],
   "source": [
    "%cd .."
   ],
   "metadata": {
    "collapsed": false,
    "ExecuteTime": {
     "end_time": "2024-04-24T15:41:28.828539524Z",
     "start_time": "2024-04-24T15:41:28.787360474Z"
    }
   },
   "id": "c18289fa6718aafa"
  },
  {
   "cell_type": "code",
   "execution_count": 4,
   "outputs": [
    {
     "name": "stderr",
     "output_type": "stream",
     "text": [
      "\u001B[32m2024-04-24 17:41:28.971\u001B[0m | \u001B[1mINFO    \u001B[0m | \u001B[36m__main__\u001B[0m:\u001B[36m<module>\u001B[0m:\u001B[36m186\u001B[0m - \u001B[1mStarting with Namespace(input_parameter_file='scripts/domain.ini', input_code_file='scripts/convergence_study_adiabatic_layers.py', src_dir=PosixPath('/home/jakob/master_workspace/Helmholtz-Sonic-Crystals'), out_dir='/tmp/tmpijibwfqm', container_name='dolfinx', working_dir_container='/home/', is_complex=True, cleanup_docker=False, n_threads=1).\u001B[0m\n",
      "\u001B[32m2024-04-24 17:41:28.974\u001B[0m | \u001B[1mINFO    \u001B[0m | \u001B[36m__main__\u001B[0m:\u001B[36m<module>\u001B[0m:\u001B[36m190\u001B[0m - \u001B[1mStarted docker container dolfinx.\u001B[0m\n",
      "\u001B[32m2024-04-24 17:41:29.106\u001B[0m | \u001B[1mINFO    \u001B[0m | \u001B[36m__main__\u001B[0m:\u001B[36m<module>\u001B[0m:\u001B[36m196\u001B[0m - \u001B[1mSuccessfully setup docker container.\u001B[0m\n",
      "\u001B[32m2024-04-24 17:41:31.284\u001B[0m | \u001B[1mINFO    \u001B[0m | \u001B[36m__main__\u001B[0m:\u001B[36mcopy_to_container\u001B[0m:\u001B[36m107\u001B[0m - \u001B[1mCopying /home/jakob/master_workspace/Helmholtz-Sonic-Crystals to /home/hsc (22 files).\u001B[0m\n",
      "\u001B[32m2024-04-24 17:41:33.348\u001B[0m | \u001B[1mINFO    \u001B[0m | \u001B[36m__main__\u001B[0m:\u001B[36mcopy_to_container\u001B[0m:\u001B[36m114\u001B[0m - \u001B[1mCopying /home/jakob/master_workspace/Helmholtz-Sonic-Crystals/pyproject.toml to /home.\u001B[0m\n",
      "\u001B[32m2024-04-24 17:41:33.352\u001B[0m | \u001B[1mINFO    \u001B[0m | \u001B[36m__main__\u001B[0m:\u001B[36mcopy_to_container\u001B[0m:\u001B[36m114\u001B[0m - \u001B[1mCopying /home/jakob/master_workspace/Helmholtz-Sonic-Crystals/README.md to /home.\u001B[0m\n",
      "\u001B[32m2024-04-24 17:41:33.356\u001B[0m | \u001B[1mINFO    \u001B[0m | \u001B[36m__main__\u001B[0m:\u001B[36mcopy_to_container\u001B[0m:\u001B[36m114\u001B[0m - \u001B[1mCopying /home/jakob/master_workspace/Helmholtz-Sonic-Crystals/LICENSE to /home.\u001B[0m\n",
      "\u001B[32m2024-04-24 17:41:33.359\u001B[0m | \u001B[1mINFO    \u001B[0m | \u001B[36m__main__\u001B[0m:\u001B[36mcopy_to_container\u001B[0m:\u001B[36m114\u001B[0m - \u001B[1mCopying /home/jakob/master_workspace/Helmholtz-Sonic-Crystals/scripts/domain.ini to /home.\u001B[0m\n",
      "\u001B[32m2024-04-24 17:41:33.362\u001B[0m | \u001B[1mINFO    \u001B[0m | \u001B[36m__main__\u001B[0m:\u001B[36mcopy_to_container\u001B[0m:\u001B[36m114\u001B[0m - \u001B[1mCopying /home/jakob/master_workspace/Helmholtz-Sonic-Crystals/scripts/convergence_study_adiabatic_layers.py to /home.\u001B[0m\n",
      "\u001B[32m2024-04-24 17:41:33.365\u001B[0m | \u001B[1mINFO    \u001B[0m | \u001B[36m__main__\u001B[0m:\u001B[36m<module>\u001B[0m:\u001B[36m207\u001B[0m - \u001B[1mCopied all files to container.\u001B[0m\n",
      "\u001B[32m2024-04-24 17:41:33.365\u001B[0m | \u001B[1mINFO    \u001B[0m | \u001B[36m__main__\u001B[0m:\u001B[36m<module>\u001B[0m:\u001B[36m209\u001B[0m - \u001B[1mStarting simulation....\u001B[0m\n"
     ]
    },
    {
     "name": "stdout",
     "output_type": "stream",
     "text": [
      "Processing /home\n",
      "  Installing build dependencies: started\n",
      "  Installing build dependencies: finished with status 'done'\n",
      "  Getting requirements to build wheel: started\n",
      "  Getting requirements to build wheel: finished with status 'done'\n",
      "  Preparing metadata (pyproject.toml): started\n",
      "  Preparing metadata (pyproject.toml): finished with status 'done'\n",
      "Requirement already satisfied: numpy in /usr/local/lib/python3.10/dist-packages (from hsc==1.0.0) (1.23.2)\n",
      "Requirement already satisfied: pandas in /usr/local/lib/python3.10/dist-packages (from hsc==1.0.0) (2.2.1)\n",
      "Requirement already satisfied: matplotlib in /usr/local/lib/python3.10/dist-packages (from hsc==1.0.0) (3.8.0)\n",
      "Requirement already satisfied: seaborn in /usr/local/lib/python3.10/dist-packages (from hsc==1.0.0) (0.13.2)\n",
      "Requirement already satisfied: gmsh in /usr/local/lib (from hsc==1.0.0) (4.11.1.dev1)\n",
      "Requirement already satisfied: h5py in /usr/local/lib/python3.10/dist-packages (from hsc==1.0.0) (3.10.0)\n",
      "Requirement already satisfied: black in /usr/local/lib/python3.10/dist-packages (from hsc==1.0.0) (24.3.0)\n",
      "Requirement already satisfied: ruff in /usr/local/lib/python3.10/dist-packages (from hsc==1.0.0) (0.3.5)\n",
      "Requirement already satisfied: isort in /usr/local/lib/python3.10/dist-packages (from hsc==1.0.0) (5.12.0)\n",
      "Requirement already satisfied: pre-commit in /usr/local/lib/python3.10/dist-packages (from hsc==1.0.0) (3.7.0)\n",
      "Requirement already satisfied: pytest in /usr/local/lib/python3.10/dist-packages (from hsc==1.0.0) (7.4.2)\n",
      "Requirement already satisfied: pytest-cov in /usr/local/lib/python3.10/dist-packages (from hsc==1.0.0) (5.0.0)\n",
      "Requirement already satisfied: sphinx in /usr/local/lib/python3.10/dist-packages (from hsc==1.0.0) (7.2.6)\n",
      "Requirement already satisfied: docker in /usr/local/lib/python3.10/dist-packages (from hsc==1.0.0) (7.0.0)\n",
      "Requirement already satisfied: loguru in /usr/local/lib/python3.10/dist-packages (from hsc==1.0.0) (0.7.2)\n",
      "Requirement already satisfied: click>=8.0.0 in /usr/local/lib/python3.10/dist-packages (from black->hsc==1.0.0) (8.1.7)\n",
      "Requirement already satisfied: mypy-extensions>=0.4.3 in /usr/local/lib/python3.10/dist-packages (from black->hsc==1.0.0) (1.0.0)\n",
      "Requirement already satisfied: packaging>=22.0 in /usr/local/lib/python3.10/dist-packages (from black->hsc==1.0.0) (23.2)\n",
      "Requirement already satisfied: pathspec>=0.9.0 in /usr/local/lib/python3.10/dist-packages (from black->hsc==1.0.0) (0.12.1)\n",
      "Requirement already satisfied: platformdirs>=2 in /usr/local/lib/python3.10/dist-packages (from black->hsc==1.0.0) (3.11.0)\n",
      "Requirement already satisfied: tomli>=1.1.0 in /usr/local/lib/python3.10/dist-packages (from black->hsc==1.0.0) (2.0.1)\n",
      "Requirement already satisfied: typing-extensions>=4.0.1 in /usr/local/lib/python3.10/dist-packages (from black->hsc==1.0.0) (4.8.0)\n",
      "Requirement already satisfied: requests>=2.26.0 in /usr/local/lib/python3.10/dist-packages (from docker->hsc==1.0.0) (2.31.0)\n",
      "Requirement already satisfied: urllib3>=1.26.0 in /usr/local/lib/python3.10/dist-packages (from docker->hsc==1.0.0) (2.0.6)\n",
      "Requirement already satisfied: contourpy>=1.0.1 in /usr/local/lib/python3.10/dist-packages (from matplotlib->hsc==1.0.0) (1.1.1)\n",
      "Requirement already satisfied: cycler>=0.10 in /usr/local/lib/python3.10/dist-packages (from matplotlib->hsc==1.0.0) (0.12.0)\n",
      "Requirement already satisfied: fonttools>=4.22.0 in /usr/local/lib/python3.10/dist-packages (from matplotlib->hsc==1.0.0) (4.43.0)\n",
      "Requirement already satisfied: kiwisolver>=1.0.1 in /usr/local/lib/python3.10/dist-packages (from matplotlib->hsc==1.0.0) (1.4.5)\n",
      "Requirement already satisfied: pillow>=6.2.0 in /usr/local/lib/python3.10/dist-packages (from matplotlib->hsc==1.0.0) (10.0.1)\n",
      "Requirement already satisfied: pyparsing>=2.3.1 in /usr/local/lib/python3.10/dist-packages (from matplotlib->hsc==1.0.0) (3.1.1)\n",
      "Requirement already satisfied: python-dateutil>=2.7 in /usr/local/lib/python3.10/dist-packages (from matplotlib->hsc==1.0.0) (2.8.2)\n",
      "Requirement already satisfied: pytz>=2020.1 in /usr/local/lib/python3.10/dist-packages (from pandas->hsc==1.0.0) (2024.1)\n",
      "Requirement already satisfied: tzdata>=2022.7 in /usr/local/lib/python3.10/dist-packages (from pandas->hsc==1.0.0) (2024.1)\n",
      "Requirement already satisfied: cfgv>=2.0.0 in /usr/local/lib/python3.10/dist-packages (from pre-commit->hsc==1.0.0) (3.4.0)\n",
      "Requirement already satisfied: identify>=1.0.0 in /usr/local/lib/python3.10/dist-packages (from pre-commit->hsc==1.0.0) (2.5.35)\n",
      "Requirement already satisfied: nodeenv>=0.11.1 in /usr/local/lib/python3.10/dist-packages (from pre-commit->hsc==1.0.0) (1.8.0)\n",
      "Requirement already satisfied: pyyaml>=5.1 in /usr/local/lib/python3.10/dist-packages (from pre-commit->hsc==1.0.0) (6.0.1)\n",
      "Requirement already satisfied: virtualenv>=20.10.0 in /usr/local/lib/python3.10/dist-packages (from pre-commit->hsc==1.0.0) (20.25.1)\n",
      "Requirement already satisfied: iniconfig in /usr/local/lib/python3.10/dist-packages (from pytest->hsc==1.0.0) (2.0.0)\n",
      "Requirement already satisfied: pluggy<2.0,>=0.12 in /usr/local/lib/python3.10/dist-packages (from pytest->hsc==1.0.0) (1.3.0)\n",
      "Requirement already satisfied: exceptiongroup>=1.0.0rc8 in /usr/local/lib/python3.10/dist-packages (from pytest->hsc==1.0.0) (1.1.3)\n",
      "Requirement already satisfied: coverage[toml]>=5.2.1 in /usr/local/lib/python3.10/dist-packages (from pytest-cov->hsc==1.0.0) (7.4.4)\n",
      "Requirement already satisfied: sphinxcontrib-applehelp in /usr/local/lib/python3.10/dist-packages (from sphinx->hsc==1.0.0) (1.0.7)\n",
      "Requirement already satisfied: sphinxcontrib-devhelp in /usr/local/lib/python3.10/dist-packages (from sphinx->hsc==1.0.0) (1.0.5)\n",
      "Requirement already satisfied: sphinxcontrib-jsmath in /usr/local/lib/python3.10/dist-packages (from sphinx->hsc==1.0.0) (1.0.1)\n",
      "Requirement already satisfied: sphinxcontrib-htmlhelp>=2.0.0 in /usr/local/lib/python3.10/dist-packages (from sphinx->hsc==1.0.0) (2.0.4)\n",
      "Requirement already satisfied: sphinxcontrib-serializinghtml>=1.1.9 in /usr/local/lib/python3.10/dist-packages (from sphinx->hsc==1.0.0) (1.1.9)\n",
      "Requirement already satisfied: sphinxcontrib-qthelp in /usr/local/lib/python3.10/dist-packages (from sphinx->hsc==1.0.0) (1.0.6)\n",
      "Requirement already satisfied: Jinja2>=3.0 in /usr/local/lib/python3.10/dist-packages (from sphinx->hsc==1.0.0) (3.1.2)\n",
      "Requirement already satisfied: Pygments>=2.14 in /usr/local/lib/python3.10/dist-packages (from sphinx->hsc==1.0.0) (2.16.1)\n",
      "Requirement already satisfied: docutils<0.21,>=0.18.1 in /usr/local/lib/python3.10/dist-packages (from sphinx->hsc==1.0.0) (0.18.1)\n",
      "Requirement already satisfied: snowballstemmer>=2.0 in /usr/local/lib/python3.10/dist-packages (from sphinx->hsc==1.0.0) (2.2.0)\n",
      "Requirement already satisfied: babel>=2.9 in /usr/local/lib/python3.10/dist-packages (from sphinx->hsc==1.0.0) (2.13.0)\n",
      "Requirement already satisfied: alabaster<0.8,>=0.7 in /usr/local/lib/python3.10/dist-packages (from sphinx->hsc==1.0.0) (0.7.13)\n",
      "Requirement already satisfied: imagesize>=1.3 in /usr/local/lib/python3.10/dist-packages (from sphinx->hsc==1.0.0) (1.4.1)\n",
      "Requirement already satisfied: MarkupSafe>=2.0 in /usr/local/lib/python3.10/dist-packages (from Jinja2>=3.0->sphinx->hsc==1.0.0) (2.1.3)\n",
      "Requirement already satisfied: setuptools in /usr/local/lib/python3.10/dist-packages (from nodeenv>=0.11.1->pre-commit->hsc==1.0.0) (68.2.2)\n",
      "Requirement already satisfied: six>=1.5 in /usr/local/lib/python3.10/dist-packages (from python-dateutil>=2.7->matplotlib->hsc==1.0.0) (1.16.0)\n",
      "Requirement already satisfied: charset-normalizer<4,>=2 in /usr/local/lib/python3.10/dist-packages (from requests>=2.26.0->docker->hsc==1.0.0) (3.3.0)\n",
      "Requirement already satisfied: idna<4,>=2.5 in /usr/local/lib/python3.10/dist-packages (from requests>=2.26.0->docker->hsc==1.0.0) (3.4)\n",
      "Requirement already satisfied: certifi>=2017.4.17 in /usr/local/lib/python3.10/dist-packages (from requests>=2.26.0->docker->hsc==1.0.0) (2023.7.22)\n",
      "Requirement already satisfied: distlib<1,>=0.3.7 in /usr/local/lib/python3.10/dist-packages (from virtualenv>=20.10.0->pre-commit->hsc==1.0.0) (0.3.8)\n",
      "Requirement already satisfied: filelock<4,>=3.12.2 in /usr/local/lib/python3.10/dist-packages (from virtualenv>=20.10.0->pre-commit->hsc==1.0.0) (3.12.4)\n",
      "Building wheels for collected packages: hsc\n",
      "  Building wheel for hsc (pyproject.toml): started\n",
      "  Building wheel for hsc (pyproject.toml): finished with status 'done'\n",
      "  Created wheel for hsc: filename=hsc-1.0.0-py3-none-any.whl size=95972 sha256=644a6b31913e33558a616dd479ac97297ffe0b8d8af3349ce17b17b6f5f046e0\n",
      "  Stored in directory: /tmp/pip-ephem-wheel-cache-yta09r8n/wheels/dd/8a/5c/2ef7f30acf9c6d12ddeee95121b7e0e0d7d469c5bd226cfdcb\n",
      "Successfully built hsc\n",
      "Installing collected packages: hsc\n",
      "  Attempting uninstall: hsc\n",
      "    Found existing installation: hsc 1.0.0\n",
      "    Uninstalling hsc-1.0.0:\n",
      "      Successfully uninstalled hsc-1.0.0\n",
      "Successfully installed hsc-1.0.0\n",
      "WARNING: Running pip as the 'root' user can result in broken permissions and conflicting behaviour with the system package manager. It is recommended to use a virtual environment instead: https://pip.pypa.io/warnings/venv\n",
      "\n",
      "[notice] A new release of pip is available: 23.2.1 -> 24.0\n",
      "[notice] To update, run: python3 -m pip install --upgrade pip\n",
      " 97%|█████████▋| 30/31 [00:13<00:00,  1.62it/s]"
     ]
    },
    {
     "name": "stderr",
     "output_type": "stream",
     "text": [
      "\u001B[32m2024-04-24 17:41:51.731\u001B[0m | \u001B[1mINFO    \u001B[0m | \u001B[36m__main__\u001B[0m:\u001B[36m<module>\u001B[0m:\u001B[36m212\u001B[0m - \u001B[1mFinished simulation....\u001B[0m\n",
      "\u001B[32m2024-04-24 17:41:51.763\u001B[0m | \u001B[1mINFO    \u001B[0m | \u001B[36m__main__\u001B[0m:\u001B[36m<module>\u001B[0m:\u001B[36m223\u001B[0m - \u001B[1mFinished copying files from container to /tmp/tmpijibwfqm.\u001B[0m\n"
     ]
    },
    {
     "name": "stdout",
     "output_type": "stream",
     "text": [
      "100%|██████████| 31/31 [00:14<00:00,  2.12it/s]\n"
     ]
    }
   ],
   "source": [
    "%run scripts/run_on_docker.py --out_dir={data_path} --input_code_file=scripts/convergence_study_adiabatic_layers.py"
   ],
   "metadata": {
    "collapsed": false,
    "ExecuteTime": {
     "end_time": "2024-04-24T15:41:51.772541002Z",
     "start_time": "2024-04-24T15:41:28.825269951Z"
    }
   },
   "id": "926937eda430e922"
  },
  {
   "cell_type": "code",
   "execution_count": 5,
   "outputs": [
    {
     "name": "stdout",
     "output_type": "stream",
     "text": [
      "Dataset contains a total of 31 datasets.\n"
     ]
    }
   ],
   "source": [
    "data_files = data_path.rglob('*.xdmf')\n",
    "\n",
    "data_sets = []\n",
    "\n",
    "for data_file in data_files:\n",
    "    data_sets.append(HelmholtzDataset.from_xdmf_file(data_file))\n",
    "print(f\"Dataset contains a total of {len(data_sets)} datasets.\")"
   ],
   "metadata": {
    "collapsed": false,
    "ExecuteTime": {
     "end_time": "2024-04-24T15:41:51.812300706Z",
     "start_time": "2024-04-24T15:41:51.768413096Z"
    }
   },
   "id": "91315cf3a43115c5"
  },
  {
   "cell_type": "code",
   "execution_count": 6,
   "outputs": [],
   "source": [
    "performances = pd.DataFrame()\n",
    "\n",
    "for dataset in data_sets:\n",
    "    # only get values inside the simulation domain\n",
    "    cs = dataset.description.crystal.grid_size\n",
    "    inside_indices =  np.greater_equal(dataset.x[:, 0], -cs / 2) & np.less_equal(dataset.x[:, 0], 9.5 * cs)\n",
    "    dataset.x = dataset.x[inside_indices]\n",
    "    dataset.p = dataset.p.squeeze()[inside_indices]\n",
    "    \n",
    "    difference = dataset.p.squeeze() - np.exp(1j * dataset.description.ks[0] * dataset.x[:, 0])\n",
    "\n",
    "    real_mean_l1 = np.mean(np.abs(np.real(difference)))\n",
    "    imag_mean_l1 = np.mean(np.abs(np.imag(difference)))\n",
    "    \n",
    "    performance = pd.DataFrame({\n",
    "        \"real_l1\": [real_mean_l1],\n",
    "        \"imag_l1\": [imag_mean_l1],\n",
    "        \"elements_per_lambda\": [dataset.description.elements_per_lambda],\n",
    "        \"degree\": [dataset.description.absorber.degree],\n",
    "        \"depth\": [dataset.description.absorber.depth]\n",
    "    })\n",
    "    performances = pd.concat([performance, performances], ignore_index=True)\n",
    "performances[\"n_lambda\"] = performances[\"depth\"] / (343. / 10000)"
   ],
   "metadata": {
    "collapsed": false,
    "ExecuteTime": {
     "end_time": "2024-04-24T15:41:51.857512603Z",
     "start_time": "2024-04-24T15:41:51.816884358Z"
    }
   },
   "id": "1dd57695c9f82825"
  },
  {
   "cell_type": "code",
   "execution_count": 7,
   "outputs": [
    {
     "data": {
      "text/plain": "<Figure size 800x400 with 2 Axes>",
      "image/png": "[encoded data removed]"
     },
     "metadata": {},
     "output_type": "display_data"
    }
   ],
   "source": [
    "fig, axs = plt.subplots(ncols=2, figsize=(8, 4))\n",
    "\n",
    "sns.lineplot(performances, x='n_lambda', y='real_l1', hue='degree', ax=axs[0])\n",
    "sns.lineplot(performances, x='n_lambda', y='imag_l1', hue='degree', ax=axs[1])\n",
    "\n",
    "for ax in axs.flatten():\n",
    "    ax.set_yscale('log')\n",
    "fig.tight_layout()"
   ],
   "metadata": {
    "collapsed": false,
    "ExecuteTime": {
     "end_time": "2024-04-24T15:41:53.459843578Z",
     "start_time": "2024-04-24T15:41:51.843722814Z"
    }
   },
   "id": "96b418d786fe01e7"
  },
  {
   "cell_type": "code",
   "execution_count": 8,
   "outputs": [],
   "source": [
    "data_directory.cleanup()"
   ],
   "metadata": {
    "collapsed": false,
    "ExecuteTime": {
     "end_time": "2024-04-24T15:41:53.524994719Z",
     "start_time": "2024-04-24T15:41:53.461883160Z"
    }
   },
   "id": "bf94c578e850ac28"
  }
 ],
 "metadata": {
  "kernelspec": {
   "display_name": "Python 3",
   "language": "python",
   "name": "python3"
  },
  "language_info": {
   "codemirror_mode": {
    "name": "ipython",
    "version": 2
   },
   "file_extension": ".py",
   "mimetype": "text/x-python",
   "name": "python",
   "nbconvert_exporter": "python",
   "pygments_lexer": "ipython2",
   "version": "2.7.6"
  }
 },
 "nbformat": 4,
 "nbformat_minor": 5
}
